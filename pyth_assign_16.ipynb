{
 "cells": [
  {
   "cell_type": "markdown",
   "id": "b8c7e1c1",
   "metadata": {},
   "source": [
    "# 1."
   ]
  },
  {
   "cell_type": "code",
   "execution_count": 1,
   "id": "711b6df8",
   "metadata": {},
   "outputs": [],
   "source": [
    "years_list=[]\n",
    "for i in range(6): #as total age + year born count (5 + 1)\n",
    "    years_list.append(2000 + i)"
   ]
  },
  {
   "cell_type": "code",
   "execution_count": 2,
   "id": "b8c40ab8",
   "metadata": {},
   "outputs": [
    {
     "data": {
      "text/plain": [
       "[2000, 2001, 2002, 2003, 2004, 2005]"
      ]
     },
     "execution_count": 2,
     "metadata": {},
     "output_type": "execute_result"
    }
   ],
   "source": [
    "years_list"
   ]
  },
  {
   "cell_type": "markdown",
   "id": "50a9bbab",
   "metadata": {},
   "source": [
    "# 2."
   ]
  },
  {
   "cell_type": "code",
   "execution_count": 3,
   "id": "472bdb30",
   "metadata": {},
   "outputs": [],
   "source": [
    "# age = []\n",
    "# for i in years_list:\n",
    "#     age.append(years_list.index(i))"
   ]
  },
  {
   "cell_type": "code",
   "execution_count": 4,
   "id": "3fc7ae31",
   "metadata": {},
   "outputs": [
    {
     "data": {
      "text/plain": [
       "2003"
      ]
     },
     "execution_count": 4,
     "metadata": {},
     "output_type": "execute_result"
    }
   ],
   "source": [
    "years_list[3] #list index start from 0, here compensate for year born"
   ]
  },
  {
   "cell_type": "markdown",
   "id": "d9c8dfce",
   "metadata": {},
   "source": [
    "# 3."
   ]
  },
  {
   "cell_type": "code",
   "execution_count": 5,
   "id": "9320ae32",
   "metadata": {},
   "outputs": [
    {
     "data": {
      "text/plain": [
       "2005"
      ]
     },
     "execution_count": 5,
     "metadata": {},
     "output_type": "execute_result"
    }
   ],
   "source": [
    "years_list.sort()\n",
    "years_list[-1]"
   ]
  },
  {
   "cell_type": "markdown",
   "id": "d135955b",
   "metadata": {},
   "source": [
    "# 4."
   ]
  },
  {
   "cell_type": "code",
   "execution_count": 6,
   "id": "5a4968f4",
   "metadata": {},
   "outputs": [],
   "source": [
    "things= ['mozzarella','cinderella','salmonella']"
   ]
  },
  {
   "cell_type": "markdown",
   "id": "fc07a810",
   "metadata": {},
   "source": [
    "# 5."
   ]
  },
  {
   "cell_type": "code",
   "execution_count": 7,
   "id": "35b24367",
   "metadata": {},
   "outputs": [
    {
     "data": {
      "text/plain": [
       "['mozzarella', 'Cinderella', 'salmonella']"
      ]
     },
     "execution_count": 7,
     "metadata": {},
     "output_type": "execute_result"
    }
   ],
   "source": [
    "things[1] = things[1].capitalize()\n",
    "things"
   ]
  },
  {
   "cell_type": "markdown",
   "id": "11966d5c",
   "metadata": {},
   "source": [
    "# 6."
   ]
  },
  {
   "cell_type": "code",
   "execution_count": 8,
   "id": "2b780a64",
   "metadata": {},
   "outputs": [],
   "source": [
    "surprise = ['Groucho', 'Chico,', 'Harpo']"
   ]
  },
  {
   "cell_type": "markdown",
   "id": "657fed3c",
   "metadata": {},
   "source": [
    "# 7."
   ]
  },
  {
   "cell_type": "code",
   "execution_count": 9,
   "id": "c644854e",
   "metadata": {},
   "outputs": [
    {
     "name": "stdout",
     "output_type": "stream",
     "text": [
      "['Groucho', 'Chico,', 'Oprah']\n"
     ]
    }
   ],
   "source": [
    "# Lowercase the last element\n",
    "last_element_lower = surprise[-1].lower()\n",
    "\n",
    "# Reverse the lowercase last element\n",
    "last_element_reversed = last_element_lower[::-1]\n",
    "\n",
    "# Capitalize the reversed last element\n",
    "last_element_capitalized = last_element_reversed.capitalize()\n",
    "\n",
    "# Update the last element in the list\n",
    "surprise[-1] = last_element_capitalized\n",
    "\n",
    "# Print the modified list\n",
    "print(surprise)"
   ]
  },
  {
   "cell_type": "markdown",
   "id": "a3cb6b32",
   "metadata": {},
   "source": [
    "# 8."
   ]
  },
  {
   "cell_type": "code",
   "execution_count": 10,
   "id": "ccc529fd",
   "metadata": {},
   "outputs": [],
   "source": [
    "e2f = {'dog' : 'chien', 'cat' : 'chat', 'walrus' : 'morse'}"
   ]
  },
  {
   "cell_type": "markdown",
   "id": "ad46c92c",
   "metadata": {},
   "source": [
    "# 9."
   ]
  },
  {
   "cell_type": "code",
   "execution_count": 11,
   "id": "633e674e",
   "metadata": {},
   "outputs": [
    {
     "data": {
      "text/plain": [
       "'morse'"
      ]
     },
     "execution_count": 11,
     "metadata": {},
     "output_type": "execute_result"
    }
   ],
   "source": [
    "e2f['walrus']"
   ]
  },
  {
   "cell_type": "markdown",
   "id": "7d6722f2",
   "metadata": {},
   "source": [
    "# 10."
   ]
  },
  {
   "cell_type": "code",
   "execution_count": 12,
   "id": "4fcf2bfd",
   "metadata": {},
   "outputs": [],
   "source": [
    "f2e = {'chien' : 'dog', 'chat' : 'cat' ,'morse': 'walrus'}"
   ]
  },
  {
   "cell_type": "code",
   "execution_count": 13,
   "id": "6dc403e4",
   "metadata": {},
   "outputs": [
    {
     "data": {
      "text/plain": [
       "dict_items([('chien', 'dog'), ('chat', 'cat'), ('morse', 'walrus')])"
      ]
     },
     "execution_count": 13,
     "metadata": {},
     "output_type": "execute_result"
    }
   ],
   "source": [
    "f2e.items()"
   ]
  },
  {
   "cell_type": "markdown",
   "id": "4e4c99fe",
   "metadata": {},
   "source": [
    "# 11."
   ]
  },
  {
   "cell_type": "code",
   "execution_count": 14,
   "id": "fc62cfcf",
   "metadata": {},
   "outputs": [
    {
     "data": {
      "text/plain": [
       "'dog'"
      ]
     },
     "execution_count": 14,
     "metadata": {},
     "output_type": "execute_result"
    }
   ],
   "source": [
    "f2e['chien']"
   ]
  },
  {
   "cell_type": "markdown",
   "id": "205bf071",
   "metadata": {},
   "source": [
    "# 12."
   ]
  },
  {
   "cell_type": "code",
   "execution_count": 15,
   "id": "1cf38a33",
   "metadata": {},
   "outputs": [
    {
     "name": "stdout",
     "output_type": "stream",
     "text": [
      "{'cat', 'walrus', 'dog'}\n"
     ]
    }
   ],
   "source": [
    "s = set(e2f.keys())\n",
    "print(s)"
   ]
  },
  {
   "cell_type": "markdown",
   "id": "5890b465",
   "metadata": {},
   "source": [
    "# 13."
   ]
  },
  {
   "cell_type": "code",
   "execution_count": 16,
   "id": "e10264ba",
   "metadata": {},
   "outputs": [],
   "source": [
    "life = {'animals':{'cats': ['Henri', 'Grumpy', 'Lucy'], 'octopi':{}, 'emus':{}},\n",
    "       'plants':{},\n",
    "       'other':{}}"
   ]
  },
  {
   "cell_type": "markdown",
   "id": "11de9f5f",
   "metadata": {},
   "source": [
    "# 14."
   ]
  },
  {
   "cell_type": "code",
   "execution_count": 17,
   "id": "2ee6c18d",
   "metadata": {},
   "outputs": [
    {
     "name": "stdout",
     "output_type": "stream",
     "text": [
      "dict_keys(['animals', 'plants', 'other'])\n"
     ]
    }
   ],
   "source": [
    "print(life.keys())"
   ]
  },
  {
   "cell_type": "markdown",
   "id": "86aac41d",
   "metadata": {},
   "source": [
    "# 15."
   ]
  },
  {
   "cell_type": "code",
   "execution_count": 18,
   "id": "6cdc0a1a",
   "metadata": {},
   "outputs": [
    {
     "name": "stdout",
     "output_type": "stream",
     "text": [
      "{'cats': ['Henri', 'Grumpy', 'Lucy'], 'octopi': {}, 'emus': {}}\n"
     ]
    }
   ],
   "source": [
    "print(life['animals'])"
   ]
  },
  {
   "cell_type": "markdown",
   "id": "d53b0a1a",
   "metadata": {},
   "source": [
    "# 16."
   ]
  },
  {
   "cell_type": "code",
   "execution_count": 19,
   "id": "c067c4ec",
   "metadata": {},
   "outputs": [
    {
     "name": "stdout",
     "output_type": "stream",
     "text": [
      "['Henri', 'Grumpy', 'Lucy']\n"
     ]
    }
   ],
   "source": [
    "print(life['animals']['cats'])"
   ]
  },
  {
   "cell_type": "code",
   "execution_count": null,
   "id": "06470343",
   "metadata": {},
   "outputs": [],
   "source": []
  }
 ],
 "metadata": {
  "kernelspec": {
   "display_name": "Python 3 (ipykernel)",
   "language": "python",
   "name": "python3"
  },
  "language_info": {
   "codemirror_mode": {
    "name": "ipython",
    "version": 3
   },
   "file_extension": ".py",
   "mimetype": "text/x-python",
   "name": "python",
   "nbconvert_exporter": "python",
   "pygments_lexer": "ipython3",
   "version": "3.11.5"
  }
 },
 "nbformat": 4,
 "nbformat_minor": 5
}
